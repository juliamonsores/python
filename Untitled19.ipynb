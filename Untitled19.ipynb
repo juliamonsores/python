{
  "nbformat": 4,
  "nbformat_minor": 0,
  "metadata": {
    "colab": {
      "name": "Untitled19.ipynb",
      "provenance": [],
      "authorship_tag": "ABX9TyPnDvouyWitPx6HyYF2Qu+5",
      "include_colab_link": true
    },
    "kernelspec": {
      "name": "python3",
      "display_name": "Python 3"
    },
    "language_info": {
      "name": "python"
    }
  },
  "cells": [
    {
      "cell_type": "markdown",
      "metadata": {
        "id": "view-in-github",
        "colab_type": "text"
      },
      "source": [
        "<a href=\"https://colab.research.google.com/github/juliamonsores/python/blob/main/Untitled19.ipynb\" target=\"_parent\"><img src=\"https://colab.research.google.com/assets/colab-badge.svg\" alt=\"Open In Colab\"/></a>"
      ]
    },
    {
      "cell_type": "code",
      "execution_count": 11,
      "metadata": {
        "colab": {
          "base_uri": "https://localhost:8080/"
        },
        "id": "DVqBLTYlcA1p",
        "outputId": "a5e9fad8-10f8-44df-859f-46c570a0d9e8"
      },
      "outputs": [
        {
          "output_type": "stream",
          "name": "stdout",
          "text": [
            "os valores impares sao 83 e a soma deles é:  20667\n"
          ]
        }
      ],
      "source": [
        "contador=0\n",
        "soma=0\n",
        "for a in range(1,501,2):\n",
        " if a%3==0:\n",
        "  contador+=1\n",
        "  soma+=a\n",
        "print(\"os valores impares sao\",  contador , \"e a soma deles é: \", soma)"
      ]
    }
  ]
}